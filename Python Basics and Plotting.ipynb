{
 "cells": [
  {
   "cell_type": "code",
   "execution_count": 1,
   "metadata": {
    "collapsed": false
   },
   "outputs": [
    {
     "data": {
      "text/plain": [
       "'this is a multiple\\nline comment'"
      ]
     },
     "execution_count": 1,
     "metadata": {},
     "output_type": "execute_result"
    }
   ],
   "source": [
    "# this is a comment\n",
    "\n",
    "\"\"\"this is a multiple\n",
    "line comment\"\"\""
   ]
  },
  {
   "cell_type": "code",
   "execution_count": 2,
   "metadata": {
    "collapsed": false
   },
   "outputs": [
    {
     "name": "stdout",
     "output_type": "stream",
     "text": [
      "Variable type examples:\n",
      "<class 'int'>\n",
      "<class 'int'>\n",
      "<class 'float'>\n",
      "<class 'bool'>\n"
     ]
    }
   ],
   "source": [
    "# ============================================\n",
    "# Variables Example\n",
    "int_val = 8\n",
    "long_val = 23423423235\n",
    "float_val = 2.0\n",
    "bool_val = True\n",
    "\n",
    "print (\"Variable type examples:\")\n",
    "print (type(int_val))\n",
    "print (type(long_val))\n",
    "print (type(float_val))\n",
    "print (type(bool_val))"
   ]
  },
  {
   "cell_type": "code",
   "execution_count": 3,
   "metadata": {
    "collapsed": false
   },
   "outputs": [
    {
     "name": "stdout",
     "output_type": "stream",
     "text": [
      "\n",
      "Arithmetic examples:\n",
      "2.6666666666666665\n",
      "2.6666666666666665\n",
      "2.6666666666666665\n",
      "False\n",
      "False\n"
     ]
    }
   ],
   "source": [
    "#============================================\n",
    "# Arithmetic and casting\n",
    "print (\"\\nArithmetic examples:\")\n",
    "print (8 / 3)\n",
    "print (float(8) / 3)\n",
    "print (float(8) / float(3))\n",
    "\n",
    "print (True and False)\n",
    "print (8 == 3)"
   ]
  },
  {
   "cell_type": "code",
   "execution_count": 4,
   "metadata": {
    "collapsed": false
   },
   "outputs": [
    {
     "name": "stdout",
     "output_type": "stream",
     "text": [
      "\n",
      "String example:\n",
      "A string is double or single quotes\n",
      "Three quote means that the string goes over\n",
      "multiple lines\n",
      "This also spans multiple lines but has no newline\n"
     ]
    }
   ],
   "source": [
    "#============================================\n",
    "# string example\n",
    "print (\"\\nString example:\")\n",
    "str_val = \"A string is double or single quotes\"\n",
    "str_val_long = '''Three quote means that the string goes over\n",
    "multiple lines'''\n",
    "str_val_no_newline = '''This also spans multiple lines \\\n",
    "but has no newline'''\n",
    "\n",
    "print (str_val)\n",
    "print (str_val_long)\n",
    "print (str_val_no_newline)"
   ]
  },
  {
   "cell_type": "code",
   "execution_count": 5,
   "metadata": {
    "collapsed": false
   },
   "outputs": [
    {
     "name": "stdout",
     "output_type": "stream",
     "text": [
      "\n",
      "for loop output:\n",
      "UbiComp <class 'str'>\n",
      "8 <class 'int'>\n",
      "23423423235 <class 'int'>\n",
      "2.0 <class 'float'>\n",
      "True <class 'bool'>\n"
     ]
    }
   ],
   "source": [
    "#============================================\n",
    "# for loop example with list\n",
    "print (\"\\nfor loop output:\")\n",
    "\n",
    "list_example = [int_val, long_val, float_val, bool_val]\n",
    "list_example.insert(0, \"UbiComp\")\n",
    "\n",
    "for val in list_example:\n",
    "    print (str(val) + ' ' + str(type(val)))"
   ]
  },
  {
   "cell_type": "code",
   "execution_count": 6,
   "metadata": {
    "collapsed": false
   },
   "outputs": [
    {
     "name": "stdout",
     "output_type": "stream",
     "text": [
      "\n",
      "Stack Example:\n",
      "['LIFO', 0, 1, 2, 3, 4]\n",
      "=============\n",
      "4\n",
      "=============\n",
      "['LIFO', 0, 1, 2, 3]\n",
      "=============\n"
     ]
    }
   ],
   "source": [
    "#============================================\n",
    "# array as a stack\n",
    "print (\"\\nStack Example:\")\n",
    "list_example = []\n",
    "list_example.append('LIFO')\n",
    "\n",
    "for i in range(0, 5):\n",
    "    list_example.append(i)\n",
    "\n",
    "print (list_example)\n",
    "print (\"=============\")\n",
    "val = list_example.pop()\n",
    "print (val)\n",
    "print (\"=============\")\n",
    "print (list_example)\n",
    "print (\"=============\")"
   ]
  },
  {
   "cell_type": "code",
   "execution_count": 7,
   "metadata": {
    "collapsed": false
   },
   "outputs": [
    {
     "name": "stdout",
     "output_type": "stream",
     "text": [
      "\n",
      "Queue Example:\n",
      "deque([9, 8, 7, 6, 5, 'FIFO'])\n",
      "=============\n",
      "FIFO\n",
      "=============\n",
      "deque([9, 8, 7, 6, 5])\n",
      "=============\n",
      "5\n",
      "6\n",
      "7\n",
      "8\n",
      "9\n"
     ]
    }
   ],
   "source": [
    "#============================================\n",
    "# array as a queue\n",
    "print (\"\\nQueue Example:\")\n",
    "from collections import deque\n",
    "\n",
    "q_example = deque()\n",
    "q_example.appendleft(\"FIFO\")\n",
    "for i in range(5, 10):\n",
    "    q_example.appendleft(i)\n",
    "\n",
    "print (q_example)\n",
    "print (\"=============\")\n",
    "val = q_example.pop()\n",
    "print (val)\n",
    "print (\"=============\")\n",
    "print (q_example)\n",
    "print (\"=============\")\n",
    "\n",
    "# pop and print each element\n",
    "while len(q_example) > 0:\n",
    "    print (q_example.pop())"
   ]
  },
  {
   "cell_type": "code",
   "execution_count": 8,
   "metadata": {
    "collapsed": false
   },
   "outputs": [
    {
     "name": "stdout",
     "output_type": "stream",
     "text": [
      "\n",
      "Conditional Example:\n",
      "a is true\n",
      "b is false\n"
     ]
    }
   ],
   "source": [
    "#============================================\n",
    "# conditional example\n",
    "print (\"\\nConditional Example:\")\n",
    "a, b = True, False\n",
    "\n",
    "if a:\n",
    "    print (\"a is true\")\n",
    "elif a or b:\n",
    "    print (\"b is true\")\n",
    "else:\n",
    "    print (\"neither a or b are true\")\n",
    "\n",
    "# conditional assignment\n",
    "val = \"b is true\" if b else \"b is false\"\n",
    "print (val)"
   ]
  },
  {
   "cell_type": "code",
   "execution_count": 9,
   "metadata": {
    "collapsed": false
   },
   "outputs": [
    {
     "name": "stdout",
     "output_type": "stream",
     "text": [
      "\n",
      "Function Example:\n",
      "upper case\n",
      "ubicomp\n"
     ]
    }
   ],
   "source": [
    "#============================================\n",
    "print (\"\\nFunction Example:\")\n",
    "# create and call a function\n",
    "# the function can be defined almost anywhere in file, as long as it is before it gets used\n",
    "def make_strings_lowercase(str_input):\n",
    "    assert isinstance(str_input, str)  # test the type of input\n",
    "    return str_input.lower()\n",
    "\n",
    "# now we are back on the main execution\n",
    "print (make_strings_lowercase(\"UPPER CASE\"))\n",
    "print (make_strings_lowercase(\"UbiComp\"))"
   ]
  },
  {
   "cell_type": "code",
   "execution_count": 10,
   "metadata": {
    "collapsed": false
   },
   "outputs": [
    {
     "data": {
      "image/png": "[encoded data removed]",
      "text/plain": [
       "<matplotlib.figure.Figure at 0x10eeab0b8>"
      ]
     },
     "metadata": {},
     "output_type": "display_data"
    }
   ],
   "source": [
    "#============================================\n",
    "# plotting example\n",
    "from matplotlib import pyplot as plt\n",
    "import numpy as np\n",
    "%matplotlib inline \n",
    "\n",
    "t = np.linspace(0, 1, 100)  # 100 equally spaced array of numbers from 0.0 to 1\n",
    "y = np.sin(2 * 3.14159 * t)  # take sine of the value\n",
    "\n",
    "plt.plot(t, y)  # plot them\n",
    "plt.show()"
   ]
  },
  {
   "cell_type": "markdown",
   "metadata": {
    "collapsed": true
   },
   "source": [
    "# Optional: Plotting in Jupyter\n",
    "There are two scripts in this repository that are examples for plotting repeatedly in matplotlib and also for reading continually from the serial port. Those can be run out of the box as examples. \n",
    "\n",
    "However, I thought it would also be interesting to show you how to use a jupyter notebook to perform the same functions. The plotting inside of a notebook, however, is more complicated for beginning python. But if you are feeling adventurous, read on. "
   ]
  },
  {
   "cell_type": "code",
   "execution_count": 7,
   "metadata": {
    "collapsed": false
   },
   "outputs": [
    {
     "name": "stdout",
     "output_type": "stream",
     "text": [
      "b',' <class 'bytes'> 44\n"
     ]
    }
   ],
   "source": [
    "#============================================\n",
    "# Serial reading example, this examples is essentially unchanged from the \n",
    "# script\n",
    "import serial\n",
    "\n",
    "serial_port = serial.Serial('/dev/cu.usbmodem1422', 9600, timeout=1)\n",
    "serial_port.flush()\n",
    "\n",
    "while True:\n",
    "    # default behavior is to return a string\n",
    "    val = serial_port.read(1)\n",
    "    if val:\n",
    "        value_as_int = ord(val)\n",
    "        print(val, type(val), value_as_int)\n",
    "\n",
    "        if value_as_int >= 30:\n",
    "            break  # break from the loop\n",
    "\n",
    "serial_port.close()"
   ]
  },
  {
   "cell_type": "code",
   "execution_count": null,
   "metadata": {
    "collapsed": false
   },
   "outputs": [
    {
     "data": {
      "text/plain": [
       "<IPython.core.display.Javascript object>"
      ]
     },
     "metadata": {},
     "output_type": "display_data"
    },
    {
     "data": {
      "text/html": [
       "<img src=\"data:image/png;base64,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\" width=\"640\">"
      ],
      "text/plain": [
       "<IPython.core.display.HTML object>"
      ]
     },
     "metadata": {},
     "output_type": "execute_result"
    }
   ],
   "source": [
    "#============================================\n",
    "# plotting in real time example\n",
    "\n",
    "import time  # for sleeping\n",
    "import random  # for generating random data\n",
    "from matplotlib import pyplot as plt\n",
    "from collections import deque\n",
    "%matplotlib notebook\n",
    "\n",
    "# create a queue of size N\n",
    "size_of_queue = 25\n",
    "init_queue_value = -1\n",
    "data = deque([init_queue_value] * size_of_queue)\n",
    "\n",
    "# setup the plot\n",
    "# show at 0:20 on the x axis and 0:10 on y axis\n",
    "fig,ax = plt.subplots(1,1)\n",
    "ax.set_xlim(0, 20)\n",
    "ax.set_ylim(0, 10)\n",
    "line, = plt.plot(data)  # get handle to the \"line\" that we use for updating the plot\n",
    "\n",
    "# do this until the queue is all filled in\n",
    "for i in range(0, len(data)):\n",
    "    # get a random number\n",
    "    # and add number to the queue\n",
    "    data.appendleft(random.randint(1, 10))\n",
    "    data.pop()  # pop the last number off to keep queue size the same\n",
    "\n",
    "    line.set_ydata(data)  # set the data\n",
    "    plt.draw()  # and draw it out\n",
    "\n",
    "    time.sleep(0.2)  # simulate some down time\n",
    "    fig.canvas.draw()"
   ]
  },
  {
   "cell_type": "code",
   "execution_count": 17,
   "metadata": {
    "collapsed": false,
    "scrolled": false
   },
   "outputs": [
    {
     "data": {
      "text/plain": [
       "<IPython.core.display.Javascript object>"
      ]
     },
     "metadata": {},
     "output_type": "display_data"
    },
    {
     "data": {
      "text/html": [
       "<img src=\"data:image/png;base64,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\" width=\"640\">"
      ],
      "text/plain": [
       "<IPython.core.display.HTML object>"
      ]
     },
     "metadata": {},
     "output_type": "execute_result"
    },
    {
     "name": "stdout",
     "output_type": "stream",
     "text": [
      "Serial Port found... plotting\n",
      "Error occurred, possibly Keyboard Interrupt, closing\n"
     ]
    }
   ],
   "source": [
    "# in fact, we can even use jupyter with the serial port\n",
    "#! /usr/bin/python\n",
    "\n",
    "\n",
    "# python example for plotting in real time\n",
    "\n",
    "import matplotlib.pyplot as plt  # for plotting\n",
    "import time  # for sleeping\n",
    "from collections import deque  # for queueing up data\n",
    "import serial  # for reading from the port\n",
    "\n",
    "# define some constants\n",
    "QUEUE_SIZE = 600\n",
    "MAX_VALUE_ON_PLOT = 255\n",
    "FRAMES_PER_SECOND = 25.0\n",
    "\n",
    "# create a queue of size N\n",
    "init_queue_value = -1\n",
    "data = deque([init_queue_value] * QUEUE_SIZE)\n",
    "\n",
    "# setup the plot axes\n",
    "fig,ax = plt.subplots(1,1)\n",
    "ax.set_xlim(0, QUEUE_SIZE)\n",
    "ax.set_ylim(0, MAX_VALUE_ON_PLOT)\n",
    "line, = plt.plot(data)  # get handle to the \"line\" that we use for updating the plot\n",
    "\n",
    "# try to connect to the serial port\n",
    "while True:\n",
    "    try:\n",
    "        serial_port = serial.Serial('/dev/cu.usbmodem1422', 9600, timeout=1)\n",
    "        serial_port.flush()\n",
    "        print ('Serial Port found... plotting')\n",
    "        break\n",
    "    except OSError:\n",
    "        print ('No Serial port, retrying in 1 s...')\n",
    "        time.sleep(1)\n",
    "\n",
    "\n",
    "time_last_updated = time.time()\n",
    "# do this until the queue is all filled in\n",
    "while True:\n",
    "    # get a number from serial port\n",
    "    # and add number to the queue\n",
    "    try:\n",
    "        vals = serial_port.read(5)  # consume up some value(s)\n",
    "\n",
    "        if vals:  # if we actually read something\n",
    "\n",
    "            # add data to the queue, but keep it the same length\n",
    "            for val in vals: # pyserial interpretes these as integers\n",
    "                data.appendleft(val)\n",
    "                data.pop()  # pop the last number off to keep queue size the same\n",
    "\n",
    "            # update the graph if the last update was a while ago\n",
    "            time_now = time.time()\n",
    "            if (time_now - time_last_updated) > 1.0 / FRAMES_PER_SECOND:  # update at given fps\n",
    "                time_last_updated = time_now\n",
    "                line.set_ydata(data)  # set the data\n",
    "                plt.draw()  # and draw it out\n",
    "                fig.canvas.draw()  # pause so that the drawing updates\n",
    "\n",
    "\n",
    "    except serial.serialutil.SerialException:\n",
    "        # bad read from port, exit this while loop\n",
    "        print('Serial port not readable (possibly unplugged), closing')\n",
    "        break\n",
    "    except:\n",
    "        print('Error occurred, possibly Keyboard Interrupt, closing')\n",
    "        break\n",
    "\n",
    "serial_port.close()"
   ]
  },
  {
   "cell_type": "code",
   "execution_count": null,
   "metadata": {
    "collapsed": true
   },
   "outputs": [],
   "source": [
    ""
   ]
  }
 ],
 "metadata": {
  "kernelspec": {
   "display_name": "Python 3",
   "language": "python",
   "name": "python3"
  },
  "language_info": {
   "codemirror_mode": {
    "name": "ipython",
    "version": 3.0
   },
   "file_extension": ".py",
   "mimetype": "text/x-python",
   "name": "python",
   "nbconvert_exporter": "python",
   "pygments_lexer": "ipython3",
   "version": "3.6.0"
  }
 },
 "nbformat": 4,
 "nbformat_minor": 0
}